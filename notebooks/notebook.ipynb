{
 "cells": [
  {
   "cell_type": "markdown",
   "metadata": {},
   "source": [
    "## 1. Import packages and define data directory"
   ]
  },
  {
   "cell_type": "code",
   "execution_count": null,
   "metadata": {},
   "outputs": [],
   "source": [
    "import pandas as pd\n",
    "import numpy as np\n",
    "import seaborn as sns\n",
    "import matplotlib.pyplot as plt\n",
    "%matplotlib inline\n",
    "\n",
    "from sklearn.model_selection import train_test_split\n",
    "from sklearn.linear_model import LinearRegression\n",
    "from sklearn.metrics import mean_squared_error\n",
    "from sklearn.preprocessing import StandardScaler\n",
    "from sklearn.preprocessing import OneHotEncoder"
   ]
  },
  {
   "cell_type": "code",
   "execution_count": null,
   "metadata": {},
   "outputs": [],
   "source": [
    "data_dir = \"../input/\" # Uncomment this line if you work on local computer\n",
    "# data_dir = '/kaggle/input/eee-datathon-challenge-2020/' # Comment this line if you work on local computer"
   ]
  },
  {
   "cell_type": "markdown",
   "metadata": {},
   "source": [
    "## 2. Import Train dataset"
   ]
  },
  {
   "cell_type": "code",
   "execution_count": null,
   "metadata": {},
   "outputs": [],
   "source": [
    "diamonds = pd.read_csv(data_dir+\"train.csv\",index_col = False)\n",
    "# diamonds = pd.read_csv(\"train.csv\",index_col = False)\n",
    "diamonds.head() # display the data on the top of the table"
   ]
  },
  {
   "cell_type": "code",
   "execution_count": null,
   "metadata": {},
   "outputs": [],
   "source": [
    "diamonds.info()"
   ]
  },
  {
   "cell_type": "code",
   "execution_count": null,
   "metadata": {},
   "outputs": [],
   "source": [
    "# Price is int64, best if all numeric attributes have the same datatype, especially as float64\n",
    "diamonds[\"price\"] = diamonds[\"price\"].astype(float)\n",
    "\n",
    "# Preview dataset again\n",
    "diamonds.head()"
   ]
  },
  {
   "cell_type": "markdown",
   "metadata": {},
   "source": [
    "## 3. Data Visualization"
   ]
  },
  {
   "cell_type": "code",
   "execution_count": null,
   "metadata": {},
   "outputs": [],
   "source": [
    "#  Have a rough idea on the distribution of each attributes \n",
    "#  X stands for the value and Y stands for the amount\n",
    "diamonds.hist(bins = 50, figsize = (20, 15))\n",
    "plt.show()"
   ]
  },
  {
   "cell_type": "code",
   "execution_count": null,
   "metadata": {},
   "outputs": [],
   "source": [
    "# Create a correlation matrix between every pair of attributes and try to find the relationship between them\n",
    "corr_matrix = diamonds.corr()\n",
    "plt.subplots(figsize = (10, 8))\n",
    "sns.heatmap(corr_matrix, annot = True)\n",
    "plt.show()"
   ]
  },
  {
   "cell_type": "code",
   "execution_count": null,
   "metadata": {
    "scrolled": true
   },
   "outputs": [],
   "source": [
    "# See the relationship  of every pair of attributes\n",
    "sns.pairplot(data = diamonds)"
   ]
  },
  {
   "cell_type": "code",
   "execution_count": null,
   "metadata": {},
   "outputs": [],
   "source": [
    "# Show the relationship between price and carat\n",
    "sns.jointplot(x='carat' , y='price' , data=diamonds , size=5)"
   ]
  },
  {
   "cell_type": "code",
   "execution_count": null,
   "metadata": {},
   "outputs": [],
   "source": [
    "# Count the number of diffent cut\n",
    "sns.factorplot(x='cut', data=diamonds , kind='count',aspect=2.5 )"
   ]
  },
  {
   "cell_type": "code",
   "execution_count": null,
   "metadata": {},
   "outputs": [],
   "source": [
    "# Show the relationship between price and quality\n",
    "sns.factorplot(x='cut', y='price', data=diamonds, kind='box' ,aspect=2.5 )"
   ]
  },
  {
   "cell_type": "code",
   "execution_count": null,
   "metadata": {},
   "outputs": [],
   "source": [
    "# Show the percentage of Clarity Categories\n",
    "labels = diamonds.clarity.unique().tolist()\n",
    "sizes = diamonds.clarity.value_counts().tolist()\n",
    "explode = (0.1, 0.0, 0.1, 0, 0.1, 0, 0.1,0)\n",
    "plt.pie(sizes, explode=explode, labels=labels,autopct='%1.1f%%', shadow=True)\n",
    "plt.title(\"Percentage of Clarity Categories\")\n",
    "plt.plot()\n",
    "plt.show()"
   ]
  },
  {
   "cell_type": "code",
   "execution_count": null,
   "metadata": {},
   "outputs": [],
   "source": [
    "# Show the relationship between price and clarity\n",
    "sns.factorplot(x='color', y='price', data=diamonds, kind='box' ,aspect=2.5 )"
   ]
  },
  {
   "cell_type": "markdown",
   "metadata": {},
   "source": [
    "## 4. Process Train dataset"
   ]
  },
  {
   "cell_type": "code",
   "execution_count": null,
   "metadata": {},
   "outputs": [],
   "source": [
    "scaler = StandardScaler()\n",
    "# Drop categorical (non-numeric) columns.\n",
    "diamonds_num = diamonds.drop([\"cut\", \"color\", \"clarity\"], axis = 1)"
   ]
  },
  {
   "cell_type": "markdown",
   "metadata": {},
   "source": [
    "### Convert categorical data to One Hot Encoding"
   ]
  },
  {
   "cell_type": "code",
   "execution_count": null,
   "metadata": {},
   "outputs": [],
   "source": [
    "hot = OneHotEncoder(sparse=False)\n",
    "diamonds_cat = diamonds[[\"cut\", \"color\", \"clarity\"]]\n",
    "diamonds_cat_hot = hot.fit_transform(diamonds_cat)\n",
    "\n",
    "# Output type of a fit_transform is ndarray so we need to convert it back to DataFrame\n",
    "diamonds_cat_hot = pd.DataFrame(diamonds_cat_hot,index=diamonds_cat.index)\n",
    "diamonds_cat_hot.head()"
   ]
  },
  {
   "cell_type": "markdown",
   "metadata": {},
   "source": [
    "### Combine categorical and numerical data"
   ]
  },
  {
   "cell_type": "code",
   "execution_count": null,
   "metadata": {},
   "outputs": [],
   "source": [
    "# Concat both DataFrames\n",
    "diamonds_ready = pd.concat([diamonds_num,diamonds_cat_hot],axis=1)\n",
    "diamonds_ready.head()"
   ]
  },
  {
   "cell_type": "markdown",
   "metadata": {},
   "source": [
    "## 5. Train and evaluate the model"
   ]
  },
  {
   "cell_type": "code",
   "execution_count": null,
   "metadata": {},
   "outputs": [],
   "source": [
    "X_train, X_test, y_train, y_test = train_test_split(diamonds_ready.drop('price',axis=1),diamonds_ready['price'],test_size=0.2)\n",
    "\n",
    "model = LinearRegression()\n",
    "model.fit(X_train,y_train)\n",
    "\n",
    "# Evaluate model using train set\n",
    "train_r2 = model.score(X_train,y_train) #R^2 score\n",
    "pred = model.predict(X_train)\n",
    "train_mse = mean_squared_error(y_train,pred)\n",
    "print('train_r2:  ', train_r2)\n",
    "print('train_mse: ', train_mse)\n",
    "\n",
    "# Evaluate model using train set\n",
    "test_r2 = model.score(X_test,y_test) # R^2 score\n",
    "pred_test = model.predict(X_test)\n",
    "test_mse = mean_squared_error(y_test,pred_test)\n",
    "print('test_r2:   ', test_r2)\n",
    "print('test_mse:  ', test_mse)"
   ]
  },
  {
   "cell_type": "markdown",
   "metadata": {},
   "source": [
    "## 6. Import and process Test dataset"
   ]
  },
  {
   "cell_type": "code",
   "execution_count": null,
   "metadata": {},
   "outputs": [],
   "source": [
    "diamonds_submission = pd.read_csv(data_dir+\"test.csv\",index_col = False)"
   ]
  },
  {
   "cell_type": "code",
   "execution_count": null,
   "metadata": {},
   "outputs": [],
   "source": [
    "scaler_submission = StandardScaler()\n",
    "diamonds_submission_num = diamonds_submission.drop([\"cut\", \"color\", \"clarity\"], axis = 1)\n",
    "diamonds_submission_num.head()"
   ]
  },
  {
   "cell_type": "code",
   "execution_count": null,
   "metadata": {},
   "outputs": [],
   "source": [
    "hot_submission = OneHotEncoder(sparse=False)\n",
    "diamonds_submission_cat = diamonds_submission[[\"cut\", \"color\", \"clarity\"]]\n",
    "diamonds_submission_cat_hot = hot_submission.fit_transform(diamonds_submission_cat)\n",
    "\n",
    "# Output type of a fit_transform is ndarray so we need to convert it back to DataFrame\n",
    "diamonds_submission_cat_hot = pd.DataFrame(diamonds_submission_cat_hot,index=diamonds_submission_cat.index)\n",
    "diamonds_submission_cat_hot.head()"
   ]
  },
  {
   "cell_type": "code",
   "execution_count": null,
   "metadata": {},
   "outputs": [],
   "source": [
    "# Concat both DataFrames\n",
    "diamonds_submission_ready = pd.concat([diamonds_submission_num,diamonds_submission_cat_hot],axis=1)\n",
    "diamonds_submission_ready.head()"
   ]
  },
  {
   "cell_type": "markdown",
   "metadata": {},
   "source": [
    "## 7. Predict the prices using the trained model"
   ]
  },
  {
   "cell_type": "code",
   "execution_count": null,
   "metadata": {},
   "outputs": [],
   "source": [
    "diamonds_submission_pred = model.predict(diamonds_submission_ready)\n",
    "diamonds_submission_pred"
   ]
  },
  {
   "cell_type": "markdown",
   "metadata": {},
   "source": [
    "### Save file for submission"
   ]
  },
  {
   "cell_type": "code",
   "execution_count": null,
   "metadata": {},
   "outputs": [],
   "source": [
    "price_submission = pd.read_csv(data_dir+\"submission_sample.csv\",index_col = False)"
   ]
  },
  {
   "cell_type": "code",
   "execution_count": null,
   "metadata": {},
   "outputs": [],
   "source": [
    "price_submission['price'] = diamonds_submission_pred\n",
    "price_submission.head()"
   ]
  },
  {
   "cell_type": "code",
   "execution_count": null,
   "metadata": {},
   "outputs": [],
   "source": [
    "price_submission.to_csv(\"submission.csv\", index=False)"
   ]
  }
 ],
 "metadata": {
  "kernelspec": {
   "display_name": "Python 3",
   "language": "python",
   "name": "python3"
  },
  "language_info": {
   "codemirror_mode": {
    "name": "ipython",
    "version": 3
   },
   "file_extension": ".py",
   "mimetype": "text/x-python",
   "name": "python",
   "nbconvert_exporter": "python",
   "pygments_lexer": "ipython3",
   "version": "3.7.7"
  }
 },
 "nbformat": 4,
 "nbformat_minor": 4
}
